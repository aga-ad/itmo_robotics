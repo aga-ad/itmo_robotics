{
 "cells": [
  {
   "cell_type": "code",
   "execution_count": 4,
   "metadata": {},
   "outputs": [
    {
     "name": "stdout",
     "output_type": "stream",
     "text": [
      "The autoreload extension is already loaded. To reload it, use:\n",
      "  %reload_ext autoreload\n"
     ]
    },
    {
     "data": {
      "application/javascript": [
       "IPython.notebook.set_autosave_interval(15000)"
      ]
     },
     "metadata": {},
     "output_type": "display_data"
    },
    {
     "name": "stdout",
     "output_type": "stream",
     "text": [
      "Autosaving every 15 seconds\n"
     ]
    }
   ],
   "source": [
    "%matplotlib inline\n",
    "%load_ext autoreload\n",
    "%autoreload 5\n",
    "%autosave 15\n",
    "\n",
    "import sklearn as sk\n",
    "import numpy as np\n",
    "import scipy as sp\n",
    "import pandas as pd\n",
    "import matplotlib as mpl\n",
    "import matplotlib.pyplot as plt"
   ]
  },
  {
   "cell_type": "code",
   "execution_count": 6,
   "metadata": {},
   "outputs": [
    {
     "data": {
      "text/plain": [
       "[<matplotlib.lines.Line2D at 0x1e4975ba4a8>]"
      ]
     },
     "execution_count": 6,
     "metadata": {},
     "output_type": "execute_result"
    },
    {
     "data": {
      "image/png": "[encoded data removed]",
      "text/plain": [
       "<Figure size 432x288 with 1 Axes>"
      ]
     },
     "metadata": {},
     "output_type": "display_data"
    }
   ],
   "source": [
    "def pid(angle0, vel0, Kp, Ki, Kd, steps, dt=0.05):\n",
    "    A = 6.0\n",
    "    B1 = 0.01008\n",
    "    B2 = -4.9\n",
    "    path = [angle0, angle0]\n",
    "    pathVel = [vel0, vel0]\n",
    "    pathAccel = []\n",
    "    Carray = []\n",
    "    eint = 0.0\n",
    "    for i in range(steps - 1):\n",
    "        q = path[-1]\n",
    "        qprev =  path[-2]\n",
    "        qdot = pathVel[-1]\n",
    "        qdotdot = (pathVel[-1] - pathVel[-2]) / dt\n",
    "        pathAccel.append(qdotdot)\n",
    "        e = -q\n",
    "        edot = -qdot\n",
    "        eint += e * dt\n",
    "        C = Kp*e + Kd*edot + Ki*eint\n",
    "        Carray.append(C)\n",
    "        qnext = (A * C - B1 * path[-2] / dt ** 2 + 2 * B1 * path[-1] / dt ** 2 - B2 * path[-1]) * dt ** 2 / B1\n",
    "        if qnext > 1.57:\n",
    "            qnext = 1.57\n",
    "        if qnext < -1.57:\n",
    "            qnext = -1.57\n",
    "        qvelnext = (qnext - q) / dt\n",
    "        path.append(qnext)\n",
    "        pathVel.append(qvelnext)\n",
    "    return (path[1:], pathVel[1:], pathAccel, Carray)\n",
    "\n",
    "dt = 0.05\n",
    "x, xd, xdd, c = pid(0.01, 0, 0.9, 0.00, 0.01, 100, dt)\n",
    "plt.plot([dt * i for i in range(len(x))], x, \"r\")"
   ]
  }
 ],
 "metadata": {
  "kernelspec": {
   "display_name": "Python 3",
   "language": "python",
   "name": "python3"
  },
  "language_info": {
   "codemirror_mode": {
    "name": "ipython",
    "version": 3
   },
   "file_extension": ".py",
   "mimetype": "text/x-python",
   "name": "python",
   "nbconvert_exporter": "python",
   "pygments_lexer": "ipython3",
   "version": "3.6.5"
  }
 },
 "nbformat": 4,
 "nbformat_minor": 2
}
